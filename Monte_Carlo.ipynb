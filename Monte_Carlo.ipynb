{
 "cells": [
  {
   "cell_type": "code",
   "execution_count": 1,
   "metadata": {},
   "outputs": [],
   "source": [
    "import numpy as np\n",
    "import scipy.stats as stats\n",
    "import matplotlib.pyplot as plt\n",
    "import mplhep as hep\n",
    "hep.style.use('CMS')"
   ]
  },
  {
   "attachments": {},
   "cell_type": "markdown",
   "metadata": {},
   "source": [
    "$$ \\LARGE p_i = \\frac{1}{Q} e^{-\\varepsilon_i /k_B T} = \\frac{e^{-\\varepsilon_i /k_B T}}{\\sum^M_{j=1} e^{-\\varepsilon_j /k_B T} }$$"
   ]
  },
  {
   "attachments": {},
   "cell_type": "markdown",
   "metadata": {},
   "source": [
    "According to Scipy this is the same as \n",
    "$$ \\LARGE f(k) = \\frac{ 1-e^{-\\lambda}}{ 1-e^{-\\lambda N}}e^{-\\lambda k} $$\n",
    "With $\\lambda = 1/k_B T$, $k = \\varepsilon_i$\n"
   ]
  },
  {
   "attachments": {},
   "cell_type": "markdown",
   "metadata": {},
   "source": [
    "## Write a routine that generates N initial conditions ($x_0 , p_0$) with a Boltzmann probability distribution for our ideal gas particle in the piston and calculates $W_c(x_0, p_0) + W_e(x_0, p_0)$ for each."
   ]
  },
  {
   "cell_type": "code",
   "execution_count": 276,
   "metadata": {},
   "outputs": [],
   "source": [
    "def generate_space(Npoints: int ,m: int=2,V: int = 2,L: int=20,kT: int=8) -> tuple: \n",
    "    ''' Generates Npoints of initial conditions with a boltzmann distribution for x0 and p0\n",
    "    '''\n",
    "    x0=stats.boltzmann.rvs(lambda_=1/kT,N=L,loc=0,size=Npoints)\n",
    "    p0=stats.boltzmann.rvs(lambda_=1/kT,N=2*m*V,loc=-m*V,size=Npoints)\n",
    "    return x0,p0\n",
    "\n",
    "\n",
    "def work(x0,p0,m=2,V=2):  \n",
    "    '''Calculates the compression work and expansion work done on the particle (We,Wc) respectively\n",
    "    '''\n",
    "    Wc = .5*m*V**2 + V*p0\n",
    "    We = 2*V*p0\n",
    "    return Wc,We\n",
    "\n",
    "\n",
    "def calculate_work(Npoints,L=20,Lprime=19,V=2,m=2):\n",
    "    x0,p0 = generate_space(Npoints,m,V,L,kT=8)\n",
    "    Wctemp,Wetemp = work(x0,p0,m,V)\n",
    "    deltaL=L-Lprime\n",
    "    x1 = (deltaL)*(1-p0/(m*V)) \n",
    "    x2= (deltaL)*(-2*p0/(m*V))\n",
    "    xcut = ((x0>x1) | (x0>x2)) \n",
    "    pcut =  p0<=-m*V\n",
    "    Wctemp[(x0>=x1) ] = 0\n",
    "    Wetemp[xcut & p0>=-m*V ] = 0 # Wetemp has to have many more zeroes because the space does not privide many configurations for particle to collide with the piston\n",
    "    Wc= Wctemp[:]\n",
    "    We= Wetemp[:]\n",
    "    return Wc,We"
   ]
  },
  {
   "cell_type": "code",
   "execution_count": 275,
   "metadata": {},
   "outputs": [
    {
     "data": {
      "image/png": "[encoded data removed]",
      "text/plain": [
       "<Figure size 720x720 with 1 Axes>"
      ]
     },
     "metadata": {
      "needs_background": "light"
     },
     "output_type": "display_data"
    }
   ],
   "source": [
    "Wc,We = calculate_work(1500)\n",
    "Wnet = Wc + We\n",
    "mean = Wnet.mean()\n",
    "plt.hist(Wnet,density=False,cumulative=False,histtype='step',label=f'$\\mu = ${mean:.4}');\n",
    "plt.legend(loc='best')\n",
    "plt.title('$W_{net}$ distribution')\n",
    "plt.xlabel('Work (J)')\n",
    "# plt.tight_layout()\n",
    "plt.show()"
   ]
  },
  {
   "cell_type": "code",
   "execution_count": null,
   "metadata": {},
   "outputs": [],
   "source": [
    "# def boltzmann_mine(E,kT=8,M=1000):\n",
    "#     Q= sum([np.exp(-ej/kT) for ej in range(M)])\n",
    "#     p = np.exp(-E/kT)/Q\n",
    "#     return p\n",
    "# # boltzmann_mine(E=np.arange(10),M=N)"
   ]
  },
  {
   "cell_type": "markdown",
   "metadata": {},
   "source": [
    "# Calculate the average work done by the piston $W_c +W_e$. How big must N be before you get a reliable average? "
   ]
  },
  {
   "cell_type": "code",
   "execution_count": 196,
   "metadata": {},
   "outputs": [
    {
     "data": {
      "text/plain": [
       "(array([ 0, 17,  6,  0, 15,  0, 17, 11,  8,  1,  0, 17,  9, 18,  5,  5,  2,\n",
       "         4,  1, 17]),\n",
       " array([-4,  3,  1, -2, -4, -2, -1,  1,  0,  2,  3, -3, -4,  2, -2, -4, -2,\n",
       "         2, -2,  0]))"
      ]
     },
     "execution_count": 196,
     "metadata": {},
     "output_type": "execute_result"
    }
   ],
   "source": [
    "calculate_work()"
   ]
  },
  {
   "attachments": {},
   "cell_type": "markdown",
   "metadata": {},
   "source": [
    "\n",
    "\n",
    "N must be at least around 500 to be reliable based on a quick study of the outputs of my boltzmann function.\n"
   ]
  },
  {
   "cell_type": "markdown",
   "metadata": {},
   "source": [
    "## Does your average obey eqn 4.18?\n",
    "Yes it does.\n"
   ]
  },
  {
   "cell_type": "code",
   "execution_count": null,
   "metadata": {},
   "outputs": [],
   "source": [
    "np.mean(Wc+We)"
   ]
  },
  {
   "cell_type": "markdown",
   "metadata": {},
   "source": [
    "## Use your routine with $N = 1,000$ to calculate Jarzynski’s exponentially weighted average $\\overline{{\\exp (−W/k_B T)}}$ in eqn 4.19, and compare to $\\exp (-\\overline{W}/ k_B T )$. Do this 200 times, and plot a histogram of each. Does the Jarzynski equality appear to hold?"
   ]
  },
  {
   "cell_type": "markdown",
   "metadata": {},
   "source": [
    "Since I already initialized it with N=1000 above I will just evaluate these terms"
   ]
  },
  {
   "cell_type": "code",
   "execution_count": null,
   "metadata": {},
   "outputs": [],
   "source": [
    "W= Wc+We\n",
    "kT=8\n",
    "print(f\"Jarzynki's weighted average {np.mean(np.exp(-W/kT)):.4f}\")\n",
    "print(f\"exp(bar(-W)/kT) = {np.exp(-np.mean(W)/kT):.4f}\")\n"
   ]
  },
  {
   "cell_type": "markdown",
   "metadata": {},
   "source": [
    "We could not recreate the simulation succesfully it seems"
   ]
  }
 ],
 "metadata": {
  "kernelspec": {
   "display_name": "Python 3 (ipykernel)",
   "language": "python",
   "name": "python3"
  },
  "language_info": {
   "codemirror_mode": {
    "name": "ipython",
    "version": 3
   },
   "file_extension": ".py",
   "mimetype": "text/x-python",
   "name": "python",
   "nbconvert_exporter": "python",
   "pygments_lexer": "ipython3",
   "version": "3.10.4"
  },
  "vscode": {
   "interpreter": {
    "hash": "5e5ce2720fa9de02f468abda2105e8b7705fc43f6a30ae85583ac9b657ee3d5c"
   }
  }
 },
 "nbformat": 4,
 "nbformat_minor": 4
}
